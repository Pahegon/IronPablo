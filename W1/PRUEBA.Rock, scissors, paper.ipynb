{
 "cells": [
  {
   "cell_type": "code",
   "execution_count": 13,
   "id": "00c3f4f7",
   "metadata": {},
   "outputs": [],
   "source": [
    "import random\n",
    "\n",
    "def game1():\n",
    "    gestures = [\"rock\", \"paper\", \"scissors\"]\n",
    "\n",
    "    computer = random.choice(gestures)\n",
    "\n",
    "    player = input(\"select your choice: \")\n",
    "\n",
    "    if not (player == \"rock\" or player == \"paper\" or player == \"scissors\"):\n",
    "        input(\"please, choose between: rock, paper or scissors: \")\n",
    "\n",
    "    print(\"computer choice: \",computer)\n",
    "\n",
    "    return player, computer\n",
    "\n",
    "    "
   ]
  },
  {
   "cell_type": "code",
   "execution_count": 9,
   "id": "d2b7d58b",
   "metadata": {},
   "outputs": [],
   "source": [
    "def winner():\n",
    "    if player == \"rock\":\n",
    "        if computer == \"paper\":\n",
    "            computer_wins += 1\n",
    "            print(\"computer wins\")\n",
    "        elif computer == \"scissors\":\n",
    "            player_wins += 1\n",
    "            print(\"you win\")\n",
    "        else:\n",
    "            tie_wins += 1\n",
    "            print(\"tie\")\n",
    "        \n",
    "    elif player == \"paper\":\n",
    "        if computer == \"scissors\":\n",
    "            computer_wins +=1\n",
    "            print(\"computer wins\")\n",
    "        elif computer == \"rock\":\n",
    "            player_wins += 1\n",
    "            print(\"you win\")\n",
    "        else:\n",
    "            tie_wins += 1\n",
    "            print(\"tie\")\n",
    "        \n",
    "    elif player == \"scissors\":\n",
    "        if computer == \"rock\":\n",
    "            computer_wins += 1\n",
    "            print(\"computer wins\")\n",
    "        elif computer == \"paper\":\n",
    "            player_wins += 1\n",
    "            print(\"you win\")\n",
    "        else:\n",
    "            tie_wins += 1\n",
    "            print(\"tie\")\n",
    "    \n",
    "        \n",
    "\n",
    "\n",
    "    \n",
    "    \n",
    "\n"
   ]
  },
  {
   "cell_type": "code",
   "execution_count": 10,
   "id": "5d579c78",
   "metadata": {},
   "outputs": [
    {
     "name": "stdout",
     "output_type": "stream",
     "text": [
      "select your choice: paper\n",
      "computer choice:  scissors\n"
     ]
    },
    {
     "data": {
      "text/plain": [
       "('paper', 'scissors')"
      ]
     },
     "execution_count": 10,
     "metadata": {},
     "output_type": "execute_result"
    }
   ],
   "source": [
    "game1()"
   ]
  },
  {
   "cell_type": "code",
   "execution_count": 11,
   "id": "f08f6b80",
   "metadata": {},
   "outputs": [
    {
     "ename": "NameError",
     "evalue": "name 'player' is not defined",
     "output_type": "error",
     "traceback": [
      "\u001b[0;31m---------------------------------------------------------------------------\u001b[0m",
      "\u001b[0;31mNameError\u001b[0m                                 Traceback (most recent call last)",
      "Input \u001b[0;32mIn [11]\u001b[0m, in \u001b[0;36m<cell line: 1>\u001b[0;34m()\u001b[0m\n\u001b[0;32m----> 1\u001b[0m \u001b[43mwinner\u001b[49m\u001b[43m(\u001b[49m\u001b[43m)\u001b[49m\n",
      "Input \u001b[0;32mIn [9]\u001b[0m, in \u001b[0;36mwinner\u001b[0;34m()\u001b[0m\n\u001b[1;32m      1\u001b[0m \u001b[38;5;28;01mdef\u001b[39;00m \u001b[38;5;21mwinner\u001b[39m():\n\u001b[0;32m----> 2\u001b[0m     \u001b[38;5;28;01mif\u001b[39;00m \u001b[43mplayer\u001b[49m \u001b[38;5;241m==\u001b[39m \u001b[38;5;124m\"\u001b[39m\u001b[38;5;124mrock\u001b[39m\u001b[38;5;124m\"\u001b[39m:\n\u001b[1;32m      3\u001b[0m         \u001b[38;5;28;01mif\u001b[39;00m computer \u001b[38;5;241m==\u001b[39m \u001b[38;5;124m\"\u001b[39m\u001b[38;5;124mpaper\u001b[39m\u001b[38;5;124m\"\u001b[39m:\n\u001b[1;32m      4\u001b[0m             computer_wins \u001b[38;5;241m+\u001b[39m\u001b[38;5;241m=\u001b[39m \u001b[38;5;241m1\u001b[39m\n",
      "\u001b[0;31mNameError\u001b[0m: name 'player' is not defined"
     ]
    }
   ],
   "source": [
    "winner()"
   ]
  },
  {
   "cell_type": "code",
   "execution_count": null,
   "id": "4167348c",
   "metadata": {},
   "outputs": [],
   "source": [
    "play_again = [\"y\", \"n\"]\n",
    "\n",
    "while total_rounds < 3:\n",
    "    input(\"play again?\")\n",
    "    if play_again == \"y\":\n",
    "        game1()\n",
    "    "
   ]
  }
 ],
 "metadata": {
  "kernelspec": {
   "display_name": "Python 3 (ipykernel)",
   "language": "python",
   "name": "python3"
  },
  "language_info": {
   "codemirror_mode": {
    "name": "ipython",
    "version": 3
   },
   "file_extension": ".py",
   "mimetype": "text/x-python",
   "name": "python",
   "nbconvert_exporter": "python",
   "pygments_lexer": "ipython3",
   "version": "3.9.12"
  }
 },
 "nbformat": 4,
 "nbformat_minor": 5
}
