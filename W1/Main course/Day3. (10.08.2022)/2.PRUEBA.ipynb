{
 "cells": [
  {
   "cell_type": "markdown",
   "id": "c7c968aa",
   "metadata": {},
   "source": [
    "# Rock, Paper & Scissors¶"
   ]
  },
  {
   "cell_type": "code",
   "execution_count": 10,
   "id": "58fbdd43",
   "metadata": {},
   "outputs": [
    {
     "name": "stdout",
     "output_type": "stream",
     "text": [
      "select your choice: rock\n",
      "computer choice:  rock\n"
     ]
    }
   ],
   "source": [
    "import random \n",
    "\n",
    "\n",
    "gestures = [\"rock\", \"paper\", \"scissors\"]\n",
    "\n",
    "computer = random.choice(gestures)\n",
    "\n",
    "player = input(\"select your choice: \")\n",
    "\n",
    "if not (player == \"rock\" or player == \"paper\" or player == \"scissors\"):\n",
    "    input(\"please, choose between: rock, paper or scissors: \")\n",
    "\n",
    "print(\"computer choice: \",computer)\n"
   ]
  },
  {
   "cell_type": "code",
   "execution_count": 11,
   "id": "0127509c",
   "metadata": {},
   "outputs": [
    {
     "name": "stdout",
     "output_type": "stream",
     "text": [
      "tie\n"
     ]
    }
   ],
   "source": [
    "player_wins = 0\n",
    "computer_wins = 0\n",
    "# añadir un while loop basado en el numero de rondas. cuando = 3---->BREAK\n",
    "# WHILE loop basado en player_wins and computer wins cuando player_wins > 2\n",
    "tie_wins = 0\n",
    "\n",
    "total_rounds = 0\n",
    "\n",
    "if player == \"rock\":\n",
    "    if computer == \"paper\":\n",
    "        computer_wins += 1\n",
    "        total_rounds += 1\n",
    "        print(\"computer wins\")\n",
    "    elif computer == \"scissors\":\n",
    "        player_wins += 1\n",
    "        total_rounds += 1\n",
    "        print(\"you win\")\n",
    "    else:\n",
    "        tie_wins += 1\n",
    "        total_rounds += 1\n",
    "        print(\"tie\")\n",
    "        \n",
    "elif player == \"paper\":\n",
    "    if computer == \"scissors\":\n",
    "        computer_wins +=1\n",
    "        total_rounds += 1\n",
    "        print(\"computer wins\")\n",
    "    elif computer == \"rock\":\n",
    "        player_wins += 1\n",
    "        total_rounds += 1\n",
    "        print(\"you win\")\n",
    "    else:\n",
    "        tie_wins += 1\n",
    "        total_rounds += 1\n",
    "        print(\"tie\")\n",
    "        \n",
    "elif player == \"scissors\":\n",
    "    if computer == \"rock\":\n",
    "        computer_wins += 1\n",
    "        total_rounds += 1\n",
    "        print(\"computer wins\")\n",
    "    elif computer == \"paper\":\n",
    "        player_wins += 1\n",
    "        total_rounds += 1\n",
    "        print(\"you win\")\n",
    "    else:\n",
    "        tie_wins += 1\n",
    "        total_rounds += 1\n",
    "        print(\"tie\")\n",
    "    \n",
    "        \n",
    "\n"
   ]
  },
  {
   "cell_type": "code",
   "execution_count": 12,
   "id": "0de6b8f7",
   "metadata": {},
   "outputs": [
    {
     "name": "stdout",
     "output_type": "stream",
     "text": [
      "1\n"
     ]
    }
   ],
   "source": [
    "print(total_rounds)"
   ]
  },
  {
   "cell_type": "code",
   "execution_count": null,
   "id": "cc9e030b",
   "metadata": {},
   "outputs": [],
   "source": [
    "play_again = [\"y\", \"n\"]\n",
    "\n",
    "while total_rounds < 3:\n",
    "    input(\"play again?\")\n",
    "    if play_again == \"y\":\n",
    "        game1()\n",
    "    else:\n",
    "        break\n",
    "    \n"
   ]
  }
 ],
 "metadata": {
  "kernelspec": {
   "display_name": "Python 3 (ipykernel)",
   "language": "python",
   "name": "python3"
  },
  "language_info": {
   "codemirror_mode": {
    "name": "ipython",
    "version": 3
   },
   "file_extension": ".py",
   "mimetype": "text/x-python",
   "name": "python",
   "nbconvert_exporter": "python",
   "pygments_lexer": "ipython3",
   "version": "3.9.12"
  }
 },
 "nbformat": 4,
 "nbformat_minor": 5
}
