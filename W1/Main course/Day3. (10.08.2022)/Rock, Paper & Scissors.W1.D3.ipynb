{
 "cells": [
  {
   "cell_type": "markdown",
   "id": "40a401c3",
   "metadata": {},
   "source": [
    "# Rock, Paper & Scissors\n"
   ]
  },
  {
   "cell_type": "markdown",
   "id": "99ff2f54",
   "metadata": {},
   "source": [
    "1. Import the choice function of the random module."
   ]
  },
  {
   "cell_type": "code",
   "execution_count": 2,
   "id": "742d09e9",
   "metadata": {},
   "outputs": [],
   "source": [
    "import random\n",
    "\n"
   ]
  },
  {
   "cell_type": "markdown",
   "id": "d50abb04",
   "metadata": {},
   "source": [
    "2. Create a list that includes the 3 possible gesture options of the game: 'rock', 'paper' or 'scissors'. Store the list in a variable called gestures."
   ]
  },
  {
   "cell_type": "code",
   "execution_count": 3,
   "id": "8c0193ba",
   "metadata": {},
   "outputs": [
    {
     "name": "stdout",
     "output_type": "stream",
     "text": [
      "select your choice: dl\n",
      "please, choose between: rock, paper or scissors: paper\n",
      "computer choice:  paper\n"
     ]
    }
   ],
   "source": [
    "gestures = [\"rock\", \"paper\", \"scissors\"]\n",
    "\n",
    "computer = random.choice(gestures)\n",
    "\n",
    "player = input(\"select your choice: \")\n",
    "\n",
    "if not (player == \"rock\" or player == \"paper\" or player == \"scissors\"):\n",
    "    input(\"please, choose between: rock, paper or scissors: \")\n",
    "\n",
    "print(\"computer choice: \",computer)"
   ]
  },
  {
   "cell_type": "code",
   "execution_count": 190,
   "id": "62a05211",
   "metadata": {},
   "outputs": [
    {
     "name": "stdout",
     "output_type": "stream",
     "text": [
      "computer wins\n"
     ]
    }
   ],
   "source": [
    "player_wins = 0\n",
    "computer_wins = 0\n",
    "# añadir un while loop basado en el numero de rondas. cuando = 3---->BREAK\n",
    "# WHILE loop basado en player_wins and computer wins cuando player_wins > 2\n",
    "tie = 0\n",
    "\n",
    "total_rounds = 0\n",
    "\n",
    "if player == \"rock\":\n",
    "    if computer == \"paper\":\n",
    "        computer_wins += 1\n",
    "        total_rounds += 1\n",
    "        print(\"computer wins\")\n",
    "    elif computer == \"scissors\":\n",
    "        player_wins += 1\n",
    "        total_rounds += 1\n",
    "        print(\"you win\")\n",
    "    else:\n",
    "        tie_wins += 1\n",
    "        total_rounds += 1\n",
    "        print(\"tie\")\n",
    "        \n",
    "elif player == \"paper\":\n",
    "    if computer == \"scissors\":\n",
    "        computer_wins +=1\n",
    "        total_rounds += 1\n",
    "        print(\"computer wins\")\n",
    "    elif computer == \"rock\":\n",
    "        player_wins += 1\n",
    "        total_rounds += 1\n",
    "        print(\"you win\")\n",
    "    else:\n",
    "        tie_wins += 1\n",
    "        total_rounds += 1\n",
    "        print(\"tie\")\n",
    "        \n",
    "elif player == \"scissors\":\n",
    "    if computer == \"rock\":\n",
    "        computer_wins += 1\n",
    "        total_rounds += 1\n",
    "        print(\"computer wins\")\n",
    "    elif computer == \"paper\":\n",
    "        player_wins += 1\n",
    "        total_rounds += 1\n",
    "        print(\"you win\")\n",
    "    else:\n",
    "        tie_wins += 1\n",
    "        total_rounds += 1\n",
    "        print(\"tie\")\n",
    "    \n",
    "        \n",
    "\n"
   ]
  },
  {
   "cell_type": "markdown",
   "id": "f13357bd",
   "metadata": {},
   "source": [
    "\n",
    "\n",
    "3. Create a variable called n_rounds to store the maximum number of rounds to play in a game.\n",
    "Remember that the number of rounds must be odd: 1, 3, 5, ..."
   ]
  },
  {
   "cell_type": "code",
   "execution_count": 158,
   "id": "22861bdc",
   "metadata": {},
   "outputs": [],
   "source": [
    "n_rounds = 3\n"
   ]
  },
  {
   "cell_type": "markdown",
   "id": "6de503c4",
   "metadata": {},
   "source": [
    "4. Create a variable called rounds_to_win to store the number of rounds that a player must win to win the game.\n",
    "Hint: the value stored in rounds_to_win depends on the value of n_rounds."
   ]
  },
  {
   "cell_type": "code",
   "execution_count": 159,
   "id": "ddcfe9a2",
   "metadata": {},
   "outputs": [],
   "source": [
    "round_to_win = 0\n",
    "\n"
   ]
  },
  {
   "cell_type": "code",
   "execution_count": null,
   "id": "2ae6365b",
   "metadata": {},
   "outputs": [],
   "source": [
    "def game1():\n",
    "    gestures = [\"rock\", \"paper\", \"scissors\"]\n",
    "\n",
    "    computer = random.choice(gestures)\n",
    "\n",
    "    player = input(\"select your choice: \")\n",
    "\n",
    "    if not (player == \"rock\" or player == \"paper\" or player == \"scissors\"):\n",
    "        input(\"please, choose between: rock, paper or scissors: \")\n",
    "\n",
    "    print(\"computer choice: \",computer)\n",
    "\n",
    "    return player, computer\n",
    "\n",
    "    "
   ]
  },
  {
   "cell_type": "code",
   "execution_count": 181,
   "id": "62b62f4a",
   "metadata": {},
   "outputs": [
    {
     "ename": "KeyboardInterrupt",
     "evalue": "Interrupted by user",
     "output_type": "error",
     "traceback": [
      "\u001b[0;31m---------------------------------------------------------------------------\u001b[0m",
      "\u001b[0;31mKeyboardInterrupt\u001b[0m                         Traceback (most recent call last)",
      "Input \u001b[0;32mIn [181]\u001b[0m, in \u001b[0;36m<cell line: 3>\u001b[0;34m()\u001b[0m\n\u001b[1;32m      1\u001b[0m play_again \u001b[38;5;241m=\u001b[39m [\u001b[38;5;124m\"\u001b[39m\u001b[38;5;124my\u001b[39m\u001b[38;5;124m\"\u001b[39m, \u001b[38;5;124m\"\u001b[39m\u001b[38;5;124mn\u001b[39m\u001b[38;5;124m\"\u001b[39m]\n\u001b[1;32m      3\u001b[0m \u001b[38;5;28;01mwhile\u001b[39;00m total_rounds \u001b[38;5;241m<\u001b[39m \u001b[38;5;241m3\u001b[39m:\n\u001b[0;32m----> 4\u001b[0m     \u001b[38;5;28;43minput\u001b[39;49m\u001b[43m(\u001b[49m\u001b[38;5;124;43m\"\u001b[39;49m\u001b[38;5;124;43mplay again? :\u001b[39;49m\u001b[38;5;124;43m\"\u001b[39;49m\u001b[43m)\u001b[49m\n\u001b[1;32m      5\u001b[0m     \u001b[38;5;28;01mif\u001b[39;00m play_again \u001b[38;5;241m==\u001b[39m \u001b[38;5;124m\"\u001b[39m\u001b[38;5;124my\u001b[39m\u001b[38;5;124m\"\u001b[39m:\n\u001b[1;32m      6\u001b[0m         game1()\n",
      "File \u001b[0;32m~/opt/anaconda3/lib/python3.9/site-packages/ipykernel/kernelbase.py:1075\u001b[0m, in \u001b[0;36mKernel.raw_input\u001b[0;34m(self, prompt)\u001b[0m\n\u001b[1;32m   1071\u001b[0m \u001b[38;5;28;01mif\u001b[39;00m \u001b[38;5;129;01mnot\u001b[39;00m \u001b[38;5;28mself\u001b[39m\u001b[38;5;241m.\u001b[39m_allow_stdin:\n\u001b[1;32m   1072\u001b[0m     \u001b[38;5;28;01mraise\u001b[39;00m StdinNotImplementedError(\n\u001b[1;32m   1073\u001b[0m         \u001b[38;5;124m\"\u001b[39m\u001b[38;5;124mraw_input was called, but this frontend does not support input requests.\u001b[39m\u001b[38;5;124m\"\u001b[39m\n\u001b[1;32m   1074\u001b[0m     )\n\u001b[0;32m-> 1075\u001b[0m \u001b[38;5;28;01mreturn\u001b[39;00m \u001b[38;5;28;43mself\u001b[39;49m\u001b[38;5;241;43m.\u001b[39;49m\u001b[43m_input_request\u001b[49m\u001b[43m(\u001b[49m\n\u001b[1;32m   1076\u001b[0m \u001b[43m    \u001b[49m\u001b[38;5;28;43mstr\u001b[39;49m\u001b[43m(\u001b[49m\u001b[43mprompt\u001b[49m\u001b[43m)\u001b[49m\u001b[43m,\u001b[49m\n\u001b[1;32m   1077\u001b[0m \u001b[43m    \u001b[49m\u001b[38;5;28;43mself\u001b[39;49m\u001b[38;5;241;43m.\u001b[39;49m\u001b[43m_parent_ident\u001b[49m\u001b[43m[\u001b[49m\u001b[38;5;124;43m\"\u001b[39;49m\u001b[38;5;124;43mshell\u001b[39;49m\u001b[38;5;124;43m\"\u001b[39;49m\u001b[43m]\u001b[49m\u001b[43m,\u001b[49m\n\u001b[1;32m   1078\u001b[0m \u001b[43m    \u001b[49m\u001b[38;5;28;43mself\u001b[39;49m\u001b[38;5;241;43m.\u001b[39;49m\u001b[43mget_parent\u001b[49m\u001b[43m(\u001b[49m\u001b[38;5;124;43m\"\u001b[39;49m\u001b[38;5;124;43mshell\u001b[39;49m\u001b[38;5;124;43m\"\u001b[39;49m\u001b[43m)\u001b[49m\u001b[43m,\u001b[49m\n\u001b[1;32m   1079\u001b[0m \u001b[43m    \u001b[49m\u001b[43mpassword\u001b[49m\u001b[38;5;241;43m=\u001b[39;49m\u001b[38;5;28;43;01mFalse\u001b[39;49;00m\u001b[43m,\u001b[49m\n\u001b[1;32m   1080\u001b[0m \u001b[43m\u001b[49m\u001b[43m)\u001b[49m\n",
      "File \u001b[0;32m~/opt/anaconda3/lib/python3.9/site-packages/ipykernel/kernelbase.py:1120\u001b[0m, in \u001b[0;36mKernel._input_request\u001b[0;34m(self, prompt, ident, parent, password)\u001b[0m\n\u001b[1;32m   1117\u001b[0m             \u001b[38;5;28;01mbreak\u001b[39;00m\n\u001b[1;32m   1118\u001b[0m \u001b[38;5;28;01mexcept\u001b[39;00m \u001b[38;5;167;01mKeyboardInterrupt\u001b[39;00m:\n\u001b[1;32m   1119\u001b[0m     \u001b[38;5;66;03m# re-raise KeyboardInterrupt, to truncate traceback\u001b[39;00m\n\u001b[0;32m-> 1120\u001b[0m     \u001b[38;5;28;01mraise\u001b[39;00m \u001b[38;5;167;01mKeyboardInterrupt\u001b[39;00m(\u001b[38;5;124m\"\u001b[39m\u001b[38;5;124mInterrupted by user\u001b[39m\u001b[38;5;124m\"\u001b[39m) \u001b[38;5;28;01mfrom\u001b[39;00m \u001b[38;5;28mNone\u001b[39m\n\u001b[1;32m   1121\u001b[0m \u001b[38;5;28;01mexcept\u001b[39;00m \u001b[38;5;167;01mException\u001b[39;00m:\n\u001b[1;32m   1122\u001b[0m     \u001b[38;5;28mself\u001b[39m\u001b[38;5;241m.\u001b[39mlog\u001b[38;5;241m.\u001b[39mwarning(\u001b[38;5;124m\"\u001b[39m\u001b[38;5;124mInvalid Message:\u001b[39m\u001b[38;5;124m\"\u001b[39m, exc_info\u001b[38;5;241m=\u001b[39m\u001b[38;5;28;01mTrue\u001b[39;00m)\n",
      "\u001b[0;31mKeyboardInterrupt\u001b[0m: Interrupted by user"
     ]
    }
   ],
   "source": [
    "\n",
    "play_again = [\"y\", \"n\"]\n",
    "\n",
    "while total_rounds < 3:\n",
    "    input(\"play again? :\")\n",
    "    if play_again == \"y\":\n",
    "        game1()\n",
    "    else:\n",
    "        break\n",
    "    \n"
   ]
  },
  {
   "cell_type": "code",
   "execution_count": null,
   "id": "f90571f9",
   "metadata": {},
   "outputs": [],
   "source": []
  },
  {
   "cell_type": "code",
   "execution_count": null,
   "id": "988a75b3",
   "metadata": {},
   "outputs": [],
   "source": []
  }
 ],
 "metadata": {
  "kernelspec": {
   "display_name": "Python 3 (ipykernel)",
   "language": "python",
   "name": "python3"
  },
  "language_info": {
   "codemirror_mode": {
    "name": "ipython",
    "version": 3
   },
   "file_extension": ".py",
   "mimetype": "text/x-python",
   "name": "python",
   "nbconvert_exporter": "python",
   "pygments_lexer": "ipython3",
   "version": "3.9.12"
  }
 },
 "nbformat": 4,
 "nbformat_minor": 5
}
