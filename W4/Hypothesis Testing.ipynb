{
 "cells": [
  {
   "cell_type": "markdown",
   "id": "93e8dd83",
   "metadata": {},
   "source": [
    "# Set up the hypothesis test\n",
    "\n",
    "#### Ho: μ=120 mmHg, \n",
    "#### Ha: μ!= 120 mmHg\n",
    "#### Sample: 130,1mmHg, n=100,  σ=21,21   \n",
    "####  Is the group significantly different (with respect to systolic blood pressure!) from the regular population?\n",
    "     "
   ]
  },
  {
   "cell_type": "markdown",
   "id": "b48fcf48",
   "metadata": {},
   "source": [
    "#  Steps followed for setting up the test\n"
   ]
  },
  {
   "cell_type": "raw",
   "id": "627a901b",
   "metadata": {},
   "source": [
    "-Fix the confidence level.\n",
    "-Compute the test statistic.\n",
    "-Compute the critical value of the corresponding distribution.\n",
    "-Compare the test statistic with the critical value."
   ]
  },
  {
   "cell_type": "raw",
   "id": "4d6f3591",
   "metadata": {},
   "source": [
    "Due to μ in Ho is =0 and not (\"> or >=\", \"< or <=\") we have a 2 tailed test.\n",
    "It means, the cofident level is 95%, 0.025 in both sides of the normal distribution. Moreover, thanks of the table, we define the critical values= 1.984\n",
    "\n",
    "\n"
   ]
  },
  {
   "cell_type": "markdown",
   "id": "3aae54a6",
   "metadata": {},
   "source": [
    "## Compute the test statistic\n"
   ]
  },
  {
   "cell_type": "code",
   "execution_count": 6,
   "id": "e8935138",
   "metadata": {},
   "outputs": [],
   "source": [
    "#we can also calculate the critical values like this:\n",
    "from scipy import stats"
   ]
  },
  {
   "cell_type": "code",
   "execution_count": 17,
   "id": "ef242a65",
   "metadata": {},
   "outputs": [],
   "source": [
    "tc = stats.t.ppf(1-(0.05/2),df=99)"
   ]
  },
  {
   "cell_type": "code",
   "execution_count": 18,
   "id": "045f534e",
   "metadata": {},
   "outputs": [
    {
     "data": {
      "text/plain": [
       "1.9842169515086827"
      ]
     },
     "execution_count": 18,
     "metadata": {},
     "output_type": "execute_result"
    }
   ],
   "source": [
    "tc"
   ]
  },
  {
   "cell_type": "code",
   "execution_count": 19,
   "id": "f243cb9b",
   "metadata": {},
   "outputs": [],
   "source": [
    "import numpy as np"
   ]
  },
  {
   "cell_type": "code",
   "execution_count": 20,
   "id": "3f97a34d",
   "metadata": {},
   "outputs": [
    {
     "ename": "NameError",
     "evalue": "name 'a' is not defined",
     "output_type": "error",
     "traceback": [
      "\u001b[0;31m---------------------------------------------------------------------------\u001b[0m",
      "\u001b[0;31mNameError\u001b[0m                                 Traceback (most recent call last)",
      "Input \u001b[0;32mIn [20]\u001b[0m, in \u001b[0;36m<cell line: 1>\u001b[0;34m()\u001b[0m\n\u001b[0;32m----> 1\u001b[0m mean \u001b[38;5;241m=\u001b[39m np\u001b[38;5;241m.\u001b[39mmean(\u001b[43ma\u001b[49m)\n\u001b[1;32m      2\u001b[0m std_error \u001b[38;5;241m=\u001b[39m np\u001b[38;5;241m.\u001b[39mstd(a) \u001b[38;5;241m/\u001b[39m np\u001b[38;5;241m.\u001b[39msqrt(\u001b[38;5;28mlen\u001b[39m(a))\n\u001b[1;32m      3\u001b[0m t \u001b[38;5;241m=\u001b[39m \u001b[38;5;28mabs\u001b[39m(mean \u001b[38;5;241m-\u001b[39m mu) \u001b[38;5;241m/\u001b[39m std_error\n",
      "\u001b[0;31mNameError\u001b[0m: name 'a' is not defined"
     ]
    }
   ],
   "source": [
    "a =  df['size'].to_numpy()\n",
    "mean = np.mean(a)\n",
    "std_error = np.std(a) / np.sqrt(len(a))\n",
    "t = abs(mean - mu) / std_error"
   ]
  },
  {
   "cell_type": "code",
   "execution_count": null,
   "id": "f7011646",
   "metadata": {},
   "outputs": [],
   "source": [
    "a =\n",
    "mean = 130.1\n",
    "mu = 120\n",
    "std_error=np.std"
   ]
  },
  {
   "cell_type": "code",
   "execution_count": 22,
   "id": "e0860535",
   "metadata": {},
   "outputs": [
    {
     "ename": "AttributeError",
     "evalue": "'list' object has no attribute 'to_numpy'",
     "output_type": "error",
     "traceback": [
      "\u001b[0;31m---------------------------------------------------------------------------\u001b[0m",
      "\u001b[0;31mAttributeError\u001b[0m                            Traceback (most recent call last)",
      "Input \u001b[0;32mIn [22]\u001b[0m, in \u001b[0;36m<cell line: 1>\u001b[0;34m()\u001b[0m\n\u001b[0;32m----> 1\u001b[0m a\u001b[38;5;241m=\u001b[39m\u001b[43m[\u001b[49m\u001b[38;5;241;43m100\u001b[39;49m\u001b[43m]\u001b[49m\u001b[38;5;241;43m.\u001b[39;49m\u001b[43mto_numpy\u001b[49m()\n",
      "\u001b[0;31mAttributeError\u001b[0m: 'list' object has no attribute 'to_numpy'"
     ]
    }
   ],
   "source": [
    "a=[100].to_numpy()"
   ]
  },
  {
   "cell_type": "code",
   "execution_count": null,
   "id": "640be369",
   "metadata": {},
   "outputs": [],
   "source": []
  }
 ],
 "metadata": {
  "kernelspec": {
   "display_name": "Python 3 (ipykernel)",
   "language": "python",
   "name": "python3"
  },
  "language_info": {
   "codemirror_mode": {
    "name": "ipython",
    "version": 3
   },
   "file_extension": ".py",
   "mimetype": "text/x-python",
   "name": "python",
   "nbconvert_exporter": "python",
   "pygments_lexer": "ipython3",
   "version": "3.9.12"
  }
 },
 "nbformat": 4,
 "nbformat_minor": 5
}
