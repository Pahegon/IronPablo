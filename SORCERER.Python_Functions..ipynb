{
 "cells": [
  {
   "cell_type": "code",
   "execution_count": 42,
   "id": "6b5af583",
   "metadata": {},
   "outputs": [],
   "source": [
    "gandalf = [10, 11, 13, 30, 22, 11, 10, 33, 22, 22]\n",
    "saruman = [23, 66, 12, 43, 12, 10, 44, 23, 12, 17]"
   ]
  },
  {
   "cell_type": "markdown",
   "id": "88be56a8",
   "metadata": {},
   "source": [
    "1. Create two variables called gandalf and saruman and assign them the spell power lists. Create a variable called spells to store the number of spells that the sorcerers cast."
   ]
  },
  {
   "cell_type": "markdown",
   "id": "04a7d3ce",
   "metadata": {},
   "source": [
    "2. Create two variables called gandalf_wins and saruman_wins. Set both of them to 0."
   ]
  },
  {
   "cell_type": "code",
   "execution_count": 43,
   "id": "facfb737",
   "metadata": {},
   "outputs": [],
   "source": [
    "\n",
    "spells = len(gandalf)\n",
    "\n",
    "gandalf_wins = 0\n",
    "\n",
    "saruman_wins = 0"
   ]
  },
  {
   "cell_type": "markdown",
   "id": "99ddf62f",
   "metadata": {},
   "source": [
    "3. Using the lists of spells of both sorcerers, update variables gandalf_wins and saruman_wins to count the number of times each sorcerer wins a clash."
   ]
  },
  {
   "cell_type": "code",
   "execution_count": 44,
   "id": "e52f5e31",
   "metadata": {},
   "outputs": [
    {
     "name": "stdout",
     "output_type": "stream",
     "text": [
      "6\n"
     ]
    }
   ],
   "source": [
    "for i in range(spells):\n",
    "    if gandalf[i] > saruman[i]:\n",
    "        gandalf_wins += 1\n",
    "    elif gandalf[i] < saruman[i]:\n",
    "        saruman_wins += 1\n",
    "\n",
    "print(gandalf_wins)"
   ]
  },
  {
   "cell_type": "code",
   "execution_count": 45,
   "id": "7ab376c2",
   "metadata": {},
   "outputs": [
    {
     "name": "stdout",
     "output_type": "stream",
     "text": [
      "4\n"
     ]
    }
   ],
   "source": [
    "print(saruman_wins)"
   ]
  },
  {
   "cell_type": "markdown",
   "id": "ec8f910b",
   "metadata": {},
   "source": [
    "4. Who won the battle?\n",
    "Print Gandalf wins, Saruman wins or Tie depending on the result."
   ]
  },
  {
   "cell_type": "code",
   "execution_count": 46,
   "id": "c08facf2",
   "metadata": {},
   "outputs": [
    {
     "name": "stdout",
     "output_type": "stream",
     "text": [
      "the winner is Gandalf\n"
     ]
    }
   ],
   "source": [
    "if gandalf_wins > saruman_wins:\n",
    "    print(\"the winner is Gandalf\")\n",
    "elif gandalf_wins < saruman_wins:\n",
    "    print(\"the winner is Saruman\")\n",
    "else:\n",
    "    print(\"tie\")\n",
    "    \n",
    "    "
   ]
  },
  {
   "cell_type": "code",
   "execution_count": 47,
   "id": "252ad495",
   "metadata": {},
   "outputs": [],
   "source": [
    "def sorcerer_winner ():\n",
    "    '''\n",
    "    this is a string\n",
    "    '''\n",
    "    if gandalf_wins > saruman_wins:\n",
    "        return(\"the winner is Gandalf\")\n",
    "    elif gandalf_wins < saruman_wins:\n",
    "        return(\"the winner is Saruman\")\n",
    "    else:\n",
    "        return(\"tie\")\n",
    "    \n",
    "    \n"
   ]
  },
  {
   "cell_type": "code",
   "execution_count": 48,
   "id": "6d99efa8",
   "metadata": {},
   "outputs": [
    {
     "data": {
      "text/plain": [
       "'the winner is Gandalf'"
      ]
     },
     "execution_count": 48,
     "metadata": {},
     "output_type": "execute_result"
    }
   ],
   "source": [
    "sorcerer_winner()"
   ]
  },
  {
   "cell_type": "markdown",
   "id": "77ed0aef",
   "metadata": {},
   "source": [
    "Bonus\n",
    "In this bonus challenge, you'll need to check the winner of the battle but this time, a sorcerer wins if he succeeds in winning 3 spell clashes in a row.\n",
    "\n",
    "Also, the spells now have a name and there is a dictionary that associates that name to a power.\n",
    "\n",
    "POWER = {\n",
    "    'Fireball': 50, \n",
    "    'Lightning bolt': 40, \n",
    "    'Magic arrow': 10, \n",
    "    'Black Tentacles': 25, \n",
    "    'Contagion': 45\n",
    "}\n",
    "\n",
    "gandalf = ['Fireball', 'Lightning bolt', 'Lightning bolt', 'Magic arrow', 'Fireball', \n",
    "           'Magic arrow', 'Lightning bolt', 'Fireball', 'Fireball', 'Fireball']\n",
    "saruman = ['Contagion', 'Contagion', 'Black Tentacles', 'Fireball', 'Black Tentacles', \n",
    "           'Lightning bolt', 'Magic arrow', 'Contagion', 'Magic arrow', 'Magic arrow']"
   ]
  },
  {
   "cell_type": "markdown",
   "id": "88ee11f0",
   "metadata": {},
   "source": [
    "1. Create variables POWER, gandalf and saruman as seen above. Create a variable called spells to store the number of spells that the sorcerers cast."
   ]
  },
  {
   "cell_type": "code",
   "execution_count": 49,
   "id": "acf26be3",
   "metadata": {},
   "outputs": [],
   "source": [
    "POWER = { 'Fireball': 50, 'Lightning bolt': 40, 'Magic arrow': 10, 'Black Tentacles': 25, 'Contagion': 45 }\n",
    "\n",
    "gandalf = ['Fireball', 'Lightning bolt', 'Lightning bolt', 'Magic arrow', 'Fireball', 'Magic arrow', 'Lightning bolt', 'Fireball', 'Fireball', 'Fireball']\n",
    "\n",
    "saruman = ['Contagion', 'Contagion', 'Black Tentacles', 'Fireball', 'Black Tentacles', 'Lightning bolt', 'Magic arrow', 'Contagion', 'Magic arrow', 'Magic arrow']\n",
    "\n",
    "spells = len(gandalf)"
   ]
  },
  {
   "cell_type": "markdown",
   "id": "70a7204c",
   "metadata": {},
   "source": [
    "2. Create two variables called gandalf_wins and saruman_wins. Set both of them to 0.\n"
   ]
  },
  {
   "cell_type": "code",
   "execution_count": 50,
   "id": "c0d62ca2",
   "metadata": {},
   "outputs": [],
   "source": [
    "gandalf_wins = 0\n",
    "\n",
    "saruman_wins = 0"
   ]
  },
  {
   "cell_type": "markdown",
   "id": "61b23a69",
   "metadata": {},
   "source": [
    "4. The battle starts! Using the variables you've created above, code the execution of spell clashes. Remember that a sorcerer wins if he succeeds in winning 3 spell clashes in a row.¶"
   ]
  },
  {
   "cell_type": "code",
   "execution_count": 40,
   "id": "38ea5ef6",
   "metadata": {},
   "outputs": [
    {
     "data": {
      "text/plain": [
       "'tie'"
      ]
     },
     "execution_count": 40,
     "metadata": {},
     "output_type": "execute_result"
    }
   ],
   "source": []
  },
  {
   "cell_type": "code",
   "execution_count": null,
   "id": "a19dab58",
   "metadata": {},
   "outputs": [],
   "source": []
  }
 ],
 "metadata": {
  "kernelspec": {
   "display_name": "Python 3 (ipykernel)",
   "language": "python",
   "name": "python3"
  },
  "language_info": {
   "codemirror_mode": {
    "name": "ipython",
    "version": 3
   },
   "file_extension": ".py",
   "mimetype": "text/x-python",
   "name": "python",
   "nbconvert_exporter": "python",
   "pygments_lexer": "ipython3",
   "version": "3.9.12"
  }
 },
 "nbformat": 4,
 "nbformat_minor": 5
}
