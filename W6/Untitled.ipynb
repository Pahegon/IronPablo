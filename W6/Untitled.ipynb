{
 "cells": [
  {
   "cell_type": "code",
   "execution_count": 1,
   "id": "26577022",
   "metadata": {},
   "outputs": [
    {
     "name": "stdout",
     "output_type": "stream",
     "text": [
      "Collecting package metadata (current_repodata.json): done\n",
      "Solving environment: done\n",
      "\n",
      "\n",
      "==> WARNING: A newer version of conda exists. <==\n",
      "  current version: 4.13.0\n",
      "  latest version: 4.14.0\n",
      "\n",
      "Please update conda by running\n",
      "\n",
      "    $ conda update -n base -c defaults conda\n",
      "\n",
      "\n",
      "\n",
      "## Package Plan ##\n",
      "\n",
      "  environment location: /Users/pabloherranzgonzalez/opt/anaconda3\n",
      "\n",
      "  added / updated specs:\n",
      "    - beautifulsoup4\n",
      "\n",
      "\n",
      "The following packages will be downloaded:\n",
      "\n",
      "    package                    |            build\n",
      "    ---------------------------|-----------------\n",
      "    beautifulsoup4-4.11.1      |   py39hecd8cb5_0         183 KB  anaconda\n",
      "    ca-certificates-2022.3.29  |       hecd8cb5_1         125 KB  anaconda\n",
      "    certifi-2021.10.8          |   py39hecd8cb5_2         156 KB  anaconda\n",
      "    conda-4.13.0               |   py39hecd8cb5_0         989 KB  anaconda\n",
      "    openssl-1.1.1n             |       hca72f7f_0         3.5 MB  anaconda\n",
      "    ------------------------------------------------------------\n",
      "                                           Total:         4.9 MB\n",
      "\n",
      "The following packages will be SUPERSEDED by a higher-priority channel:\n",
      "\n",
      "  beautifulsoup4                                  pkgs/main --> anaconda\n",
      "  ca-certificates                                 pkgs/main --> anaconda\n",
      "  certifi                                         pkgs/main --> anaconda\n",
      "  conda                                           pkgs/main --> anaconda\n",
      "  openssl                                         pkgs/main --> anaconda\n",
      "\n",
      "\n",
      "\n",
      "Downloading and Extracting Packages\n",
      "openssl-1.1.1n       | 3.5 MB    | ##################################### | 100% \n",
      "beautifulsoup4-4.11. | 183 KB    | ##################################### | 100% \n",
      "conda-4.13.0         | 989 KB    | ##################################### | 100% \n",
      "certifi-2021.10.8    | 156 KB    | ##################################### | 100% \n",
      "ca-certificates-2022 | 125 KB    | ##################################### | 100% \n",
      "Preparing transaction: done\n",
      "Verifying transaction: done\n",
      "Executing transaction: done\n",
      "\n",
      "Note: you may need to restart the kernel to use updated packages.\n"
     ]
    }
   ],
   "source": [
    "conda install -c anaconda beautifulsoup4"
   ]
  },
  {
   "cell_type": "code",
   "execution_count": 2,
   "id": "677f1ba2",
   "metadata": {},
   "outputs": [
    {
     "name": "stdout",
     "output_type": "stream",
     "text": [
      "Collecting package metadata (current_repodata.json): done\n",
      "Solving environment: | \n",
      "Warning: 4 possible package resolutions (only showing differing packages):\n",
      "  - anaconda/osx-64::certifi-2021.10.8-py39hecd8cb5_2, anaconda/osx-64::openssl-1.1.1n-hca72f7f_0\n",
      "  - anaconda/osx-64::openssl-1.1.1n-hca72f7f_0, defaults/osx-64::certifi-2021.10.8-py39hecd8cb5_2\n",
      "  - anaconda/osx-64::certifi-2021.10.8-py39hecd8cb5_2, defaults/osx-64::openssl-1.1.1n-hca72f7f_0\n",
      "  - defaults/osx-64::certifi-2021.10.8-py39hecd8cb5_2, defaults/osx-64::openssl-1.1.1n-hca72f7fdone\n",
      "\n",
      "## Package Plan ##\n",
      "\n",
      "  environment location: /Users/pabloherranzgonzalez/opt/anaconda3\n",
      "\n",
      "  added / updated specs:\n",
      "    - spotipy\n",
      "\n",
      "\n",
      "The following packages will be downloaded:\n",
      "\n",
      "    package                    |            build\n",
      "    ---------------------------|-----------------\n",
      "    conda-4.14.0               |   py39h6e9494a_0        1022 KB  conda-forge\n",
      "    python_abi-3.9             |           2_cp39           4 KB  conda-forge\n",
      "    redis-py-3.5.3             |     pyh9f0ad1d_0          60 KB  conda-forge\n",
      "    spotipy-2.20.0             |     pyhd8ed1ab_0          28 KB  conda-forge\n",
      "    ------------------------------------------------------------\n",
      "                                           Total:         1.1 MB\n",
      "\n",
      "The following NEW packages will be INSTALLED:\n",
      "\n",
      "  python_abi         conda-forge/osx-64::python_abi-3.9-2_cp39\n",
      "  redis-py           conda-forge/noarch::redis-py-3.5.3-pyh9f0ad1d_0\n",
      "  spotipy            conda-forge/noarch::spotipy-2.20.0-pyhd8ed1ab_0\n",
      "\n",
      "The following packages will be UPDATED:\n",
      "\n",
      "  conda               anaconda::conda-4.13.0-py39hecd8cb5_0 --> conda-forge::conda-4.14.0-py39h6e9494a_0\n",
      "\n",
      "\n",
      "\n",
      "Downloading and Extracting Packages\n",
      "redis-py-3.5.3       | 60 KB     | ##################################### | 100% \n",
      "python_abi-3.9       | 4 KB      | ##################################### | 100% \n",
      "conda-4.14.0         | 1022 KB   | ##################################### | 100% \n",
      "spotipy-2.20.0       | 28 KB     | ##################################### | 100% \n",
      "Preparing transaction: done\n",
      "Verifying transaction: done\n",
      "Executing transaction: done\n",
      "\n",
      "Note: you may need to restart the kernel to use updated packages.\n"
     ]
    }
   ],
   "source": [
    "conda install -c conda-forge spotipy"
   ]
  },
  {
   "cell_type": "code",
   "execution_count": 6,
   "id": "df1e3522",
   "metadata": {},
   "outputs": [],
   "source": [
    "import spotipy\n",
    "from spotipy.oauth2 import SpotifyClientCredentials\n",
    "\n",
    "\n",
    "c_id = \"71623af2cccd490ea273603de2ca5ef6\"\n",
    "c_se = \"f85f3518e7a54397aef641454d8c78c9\"\n",
    "\n",
    "sp = spotipy.Spotify(auth_manager=SpotifyClientCredentials(client_id=c_id, client_secret=c_se))"
   ]
  },
  {
   "cell_type": "code",
   "execution_count": null,
   "id": "e29a221d",
   "metadata": {},
   "outputs": [],
   "source": []
  }
 ],
 "metadata": {
  "kernelspec": {
   "display_name": "Python 3 (ipykernel)",
   "language": "python",
   "name": "python3"
  },
  "language_info": {
   "codemirror_mode": {
    "name": "ipython",
    "version": 3
   },
   "file_extension": ".py",
   "mimetype": "text/x-python",
   "name": "python",
   "nbconvert_exporter": "python",
   "pygments_lexer": "ipython3",
   "version": "3.9.12"
  }
 },
 "nbformat": 4,
 "nbformat_minor": 5
}
