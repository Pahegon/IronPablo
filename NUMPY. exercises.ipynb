{
 "cells": [
  {
   "cell_type": "markdown",
   "id": "49e3d68f",
   "metadata": {},
   "source": [
    "1. Import the numpy package under the name np (★☆☆)\n"
   ]
  },
  {
   "cell_type": "code",
   "execution_count": 2,
   "id": "0799bdef",
   "metadata": {},
   "outputs": [],
   "source": [
    "import numpy as np"
   ]
  },
  {
   "cell_type": "markdown",
   "id": "0fd5ed8d",
   "metadata": {},
   "source": [
    "2. Create a null vector of size 10 (★☆☆)\n",
    "hint: np.zeros"
   ]
  },
  {
   "cell_type": "code",
   "execution_count": 16,
   "id": "6dbd7f56",
   "metadata": {},
   "outputs": [
    {
     "name": "stdout",
     "output_type": "stream",
     "text": [
      "[0. 0. 0. 0. 0. 0. 0. 0. 0. 0.]\n"
     ]
    }
   ],
   "source": [
    "a = np.zeros(10)\n",
    "print(zeros)"
   ]
  },
  {
   "cell_type": "markdown",
   "id": "88fe9fbb",
   "metadata": {},
   "source": [
    "3. Create a null vector of size 10 but the fifth value which is 1 (★☆☆)"
   ]
  },
  {
   "cell_type": "code",
   "execution_count": 19,
   "id": "80e7209d",
   "metadata": {},
   "outputs": [
    {
     "data": {
      "text/plain": [
       "array([0., 0., 0., 0., 1., 0., 0., 0., 0., 0.])"
      ]
     },
     "execution_count": 19,
     "metadata": {},
     "output_type": "execute_result"
    }
   ],
   "source": [
    "a[4] = 1\n",
    "a"
   ]
  },
  {
   "cell_type": "markdown",
   "id": "c748f127",
   "metadata": {},
   "source": [
    "4. Create a vector with values ranging from 10 to 49 (★☆☆)"
   ]
  },
  {
   "cell_type": "code",
   "execution_count": 26,
   "id": "da20cb91",
   "metadata": {},
   "outputs": [
    {
     "data": {
      "text/plain": [
       "array([10, 11, 12, 13, 14, 15, 16, 17, 18, 19, 20, 21, 22, 23, 24, 25, 26,\n",
       "       27, 28, 29, 30, 31, 32, 33, 34, 35, 36, 37, 38, 39, 40, 41, 42, 43,\n",
       "       44, 45, 46, 47, 48, 49])"
      ]
     },
     "execution_count": 26,
     "metadata": {},
     "output_type": "execute_result"
    }
   ],
   "source": [
    "np.arange(10, 50)\n",
    "\n"
   ]
  },
  {
   "cell_type": "markdown",
   "id": "06f7ea02",
   "metadata": {},
   "source": [
    "5.Create a 3x3 matrix with values ranging from 0 to 8 (★☆☆)"
   ]
  },
  {
   "cell_type": "code",
   "execution_count": 36,
   "id": "3129d558",
   "metadata": {},
   "outputs": [
    {
     "name": "stdout",
     "output_type": "stream",
     "text": [
      "[[0 1 2]\n",
      " [3 4 5]\n",
      " [6 7 8]]\n"
     ]
    }
   ],
   "source": [
    "a = np.arange(0,9).reshape(3,3)\n",
    "print(a)"
   ]
  },
  {
   "cell_type": "markdown",
   "id": "558d3b4b",
   "metadata": {},
   "source": [
    "6.Find indices of non-zero elements from [1,2,0,0,4,0] (★☆☆)\n",
    "hint: np.nonzero"
   ]
  },
  {
   "cell_type": "code",
   "execution_count": 37,
   "id": "341bf9b6",
   "metadata": {},
   "outputs": [
    {
     "data": {
      "text/plain": [
       "(array([0, 1, 4]),)"
      ]
     },
     "execution_count": 37,
     "metadata": {},
     "output_type": "execute_result"
    }
   ],
   "source": [
    "a = [1,2,0,0,4,0]\n",
    "\n",
    "np.nonzero(a)"
   ]
  },
  {
   "cell_type": "markdown",
   "id": "6218d6ae",
   "metadata": {},
   "source": [
    "7. Create a 3x3 identity matrix (★☆☆)\n",
    "hint: np.eye"
   ]
  },
  {
   "cell_type": "code",
   "execution_count": 39,
   "id": "c81fe510",
   "metadata": {},
   "outputs": [
    {
     "data": {
      "text/plain": [
       "array([[1., 0., 0.],\n",
       "       [0., 1., 0.],\n",
       "       [0., 0., 1.]])"
      ]
     },
     "execution_count": 39,
     "metadata": {},
     "output_type": "execute_result"
    }
   ],
   "source": [
    "np.eye(3,3)"
   ]
  },
  {
   "cell_type": "markdown",
   "id": "e2ccb7aa",
   "metadata": {},
   "source": [
    "8. Create a 3x3x3 array with random values (★☆☆)\n",
    "hint: np.random.random"
   ]
  },
  {
   "cell_type": "code",
   "execution_count": 50,
   "id": "22554463",
   "metadata": {},
   "outputs": [
    {
     "data": {
      "text/plain": [
       "array([[[0.38436449, 0.31807486, 0.30337546],\n",
       "        [0.33036294, 0.81644304, 0.02788717],\n",
       "        [0.69721893, 0.38191515, 0.16043615]],\n",
       "\n",
       "       [[0.68900356, 0.2528979 , 0.48235202],\n",
       "        [0.85058729, 0.86965441, 0.69345142],\n",
       "        [0.43899021, 0.03531869, 0.97085353]],\n",
       "\n",
       "       [[0.34165477, 0.23153391, 0.04472145],\n",
       "        [0.44047427, 0.1117492 , 0.77415624],\n",
       "        [0.03622328, 0.44458696, 0.79168352]]])"
      ]
     },
     "execution_count": 50,
     "metadata": {},
     "output_type": "execute_result"
    }
   ],
   "source": [
    "a = np.random.random((3,3,3))\n",
    "a"
   ]
  },
  {
   "cell_type": "markdown",
   "id": "deb5c128",
   "metadata": {},
   "source": [
    "9. Create a 10x10 array with random values and find the minimum and maximum values (★☆☆)\n",
    "hint: min, max"
   ]
  },
  {
   "cell_type": "code",
   "execution_count": 82,
   "id": "9e2647b7",
   "metadata": {},
   "outputs": [
    {
     "data": {
      "text/plain": [
       "array([[0.56263852, 0.41485162, 0.48775044, 0.87570195, 0.00360279,\n",
       "        0.37535422, 0.73333229, 0.52024468, 0.98039129, 0.91183371],\n",
       "       [0.85429359, 0.37798458, 0.51863354, 0.91458535, 0.02504355,\n",
       "        0.50376927, 0.49426742, 0.87198726, 0.22597787, 0.97669322],\n",
       "       [0.50733961, 0.02424735, 0.69077053, 0.39549001, 0.96636217,\n",
       "        0.41769093, 0.30339226, 0.91234   , 0.34120461, 0.65956104],\n",
       "       [0.33317773, 0.83398285, 0.8145936 , 0.97333688, 0.33811878,\n",
       "        0.98678821, 0.66662554, 0.01626526, 0.37767305, 0.13617724],\n",
       "       [0.9060517 , 0.67881429, 0.40764802, 0.86101059, 0.36670703,\n",
       "        0.49539774, 0.75897393, 0.06385382, 0.14864255, 0.77596159],\n",
       "       [0.07154593, 0.6531979 , 0.89040016, 0.19150212, 0.91555643,\n",
       "        0.41072221, 0.88985983, 0.68474527, 0.82688346, 0.96387213],\n",
       "       [0.21500594, 0.38812671, 0.38942814, 0.99479996, 0.18133754,\n",
       "        0.92212356, 0.05703084, 0.50898476, 0.19269019, 0.80133629],\n",
       "       [0.19082686, 0.49029963, 0.82567828, 0.78055327, 0.60819005,\n",
       "        0.60039847, 0.32326512, 0.8367058 , 0.76964667, 0.17553308],\n",
       "       [0.08430185, 0.66900984, 0.25923229, 0.37076158, 0.60458669,\n",
       "        0.99431954, 0.02739935, 0.17028503, 0.06280411, 0.28901692],\n",
       "       [0.42571847, 0.76147218, 0.75517961, 0.4989738 , 0.16312304,\n",
       "        0.13839938, 0.56212799, 0.34830553, 0.76408591, 0.02598676]])"
      ]
     },
     "execution_count": 82,
     "metadata": {},
     "output_type": "execute_result"
    }
   ],
   "source": [
    "i = np.random.random((10,10))\n",
    "i\n"
   ]
  },
  {
   "cell_type": "code",
   "execution_count": 83,
   "id": "c5aa3ca7",
   "metadata": {},
   "outputs": [
    {
     "data": {
      "text/plain": [
       "0.003602791334754829"
      ]
     },
     "execution_count": 83,
     "metadata": {},
     "output_type": "execute_result"
    }
   ],
   "source": [
    "np.min(i)"
   ]
  },
  {
   "cell_type": "code",
   "execution_count": 84,
   "id": "723d8751",
   "metadata": {},
   "outputs": [
    {
     "data": {
      "text/plain": [
       "0.9947999623308788"
      ]
     },
     "execution_count": 84,
     "metadata": {},
     "output_type": "execute_result"
    }
   ],
   "source": [
    "np.max(i)"
   ]
  },
  {
   "cell_type": "markdown",
   "id": "1477735a",
   "metadata": {},
   "source": [
    "10. Create a random vector of size 30 and find the mean value (★☆☆)\n",
    "hint: mean"
   ]
  },
  {
   "cell_type": "code",
   "execution_count": 92,
   "id": "38141a7f",
   "metadata": {},
   "outputs": [
    {
     "data": {
      "text/plain": [
       "array([0.64414354, 0.38074849, 0.66304791, 0.16365073, 0.96260781,\n",
       "       0.34666184, 0.99175099, 0.2350579 , 0.58569427, 0.4066901 ,\n",
       "       0.13623432, 0.54413629, 0.51817635, 0.76685511, 0.93385014,\n",
       "       0.08970338, 0.19577126, 0.99419368, 0.2351805 , 0.23898637,\n",
       "       0.62909983, 0.73495258, 0.68834438, 0.03113075, 0.90251384,\n",
       "       0.28643533, 0.55561256, 0.37642024, 0.02662436, 0.49414912])"
      ]
     },
     "execution_count": 92,
     "metadata": {},
     "output_type": "execute_result"
    }
   ],
   "source": [
    "a = np.random.random(30)\n",
    "a"
   ]
  },
  {
   "cell_type": "code",
   "execution_count": 93,
   "id": "228be4ed",
   "metadata": {},
   "outputs": [
    {
     "data": {
      "text/plain": [
       "0.4919474657842404"
      ]
     },
     "execution_count": 93,
     "metadata": {},
     "output_type": "execute_result"
    }
   ],
   "source": [
    "np.mean(a)"
   ]
  },
  {
   "cell_type": "markdown",
   "id": "2ae68557",
   "metadata": {},
   "source": [
    "11. Create a 5x5 matrix with values 1,2,3,4 just below the diagonal (★☆☆)\n",
    "hint: np.diag"
   ]
  },
  {
   "cell_type": "code",
   "execution_count": 104,
   "id": "ed1ffdee",
   "metadata": {},
   "outputs": [
    {
     "data": {
      "text/plain": [
       "array([[1, 0, 0, 0],\n",
       "       [0, 2, 0, 0],\n",
       "       [0, 0, 3, 0],\n",
       "       [0, 0, 0, 4]])"
      ]
     },
     "execution_count": 104,
     "metadata": {},
     "output_type": "execute_result"
    }
   ],
   "source": [
    "a = np.diag([1,2,3,4])\n",
    "a"
   ]
  },
  {
   "cell_type": "markdown",
   "id": "08fafe5c",
   "metadata": {},
   "source": [
    "12. Normalize a 5x5 random matrix (★☆☆)\n",
    "hint: (x -mean)/std"
   ]
  },
  {
   "cell_type": "code",
   "execution_count": 106,
   "id": "7164775d",
   "metadata": {},
   "outputs": [
    {
     "data": {
      "text/plain": [
       "array([[0.83471509, 0.36698733, 0.51538211, 0.47237913, 0.38615209],\n",
       "       [0.744137  , 0.33524208, 0.59543829, 0.31613338, 0.34625042],\n",
       "       [0.24483181, 0.69795016, 0.21208083, 0.26729317, 0.37389408],\n",
       "       [0.57308851, 0.91735808, 0.81897594, 0.16318089, 0.02415477],\n",
       "       [0.78465363, 0.26485738, 0.33936706, 0.81436959, 0.80745472]])"
      ]
     },
     "execution_count": 106,
     "metadata": {},
     "output_type": "execute_result"
    }
   ],
   "source": [
    "a = np.random.random((5,5))\n",
    "a"
   ]
  },
  {
   "cell_type": "code",
   "execution_count": 108,
   "id": "9cd97a0f",
   "metadata": {},
   "outputs": [
    {
     "data": {
      "text/plain": [
       "array([[ 1.39994861, -0.49218299,  0.10812873, -0.06583424, -0.41465447],\n",
       "       [ 1.03352678, -0.62060426,  0.43198553, -0.697906  , -0.57607144],\n",
       "       [-0.98634721,  0.84668395, -1.11883701, -0.89548271, -0.46424264],\n",
       "       [ 0.34157241,  1.73427002,  1.33627791, -1.31665533, -1.87906736],\n",
       "       [ 1.19743149, -0.90533638, -0.60391721,  1.31764351,  1.28967031]])"
      ]
     },
     "execution_count": 108,
     "metadata": {},
     "output_type": "execute_result"
    }
   ],
   "source": [
    "b = (a-np.mean(a))/np.std(a)\n",
    "b"
   ]
  },
  {
   "cell_type": "markdown",
   "id": "80c1b048",
   "metadata": {},
   "source": [
    "13. How to find common values between two arrays? (★☆☆)\n",
    "hint: np.intersect1d"
   ]
  },
  {
   "cell_type": "code",
   "execution_count": 111,
   "id": "8562153e",
   "metadata": {},
   "outputs": [
    {
     "data": {
      "text/plain": [
       "(array([0, 1, 2, 3, 4, 5, 6, 7, 8, 9]),\n",
       " array([ 5,  6,  7,  8,  9, 10, 11, 12, 13, 14]))"
      ]
     },
     "execution_count": 111,
     "metadata": {},
     "output_type": "execute_result"
    }
   ],
   "source": [
    "a = np.arange(0,10)\n",
    "b = np.arange(5,15)\n",
    "a,b"
   ]
  },
  {
   "cell_type": "code",
   "execution_count": 112,
   "id": "eaf7d09f",
   "metadata": {},
   "outputs": [
    {
     "data": {
      "text/plain": [
       "array([5, 6, 7, 8, 9])"
      ]
     },
     "execution_count": 112,
     "metadata": {},
     "output_type": "execute_result"
    }
   ],
   "source": [
    "np.intersect1d(a,b)"
   ]
  },
  {
   "cell_type": "markdown",
   "id": "3c960e34",
   "metadata": {},
   "source": [
    "14. Create a random vector of size 10 and sort it (★★☆)\n",
    "hint: sort\n",
    "\n"
   ]
  },
  {
   "cell_type": "code",
   "execution_count": 115,
   "id": "59e2af7b",
   "metadata": {},
   "outputs": [
    {
     "data": {
      "text/plain": [
       "array([0.93915573, 0.25683772, 0.0571346 , 0.38770822, 0.35709675,\n",
       "       0.98638414, 0.93959064, 0.58277522, 0.99310313, 0.9899145 ])"
      ]
     },
     "execution_count": 115,
     "metadata": {},
     "output_type": "execute_result"
    }
   ],
   "source": [
    "a = np.random.random(10)\n",
    "a"
   ]
  },
  {
   "cell_type": "code",
   "execution_count": 116,
   "id": "b9ebe2cd",
   "metadata": {},
   "outputs": [
    {
     "data": {
      "text/plain": [
       "array([0.0571346 , 0.25683772, 0.35709675, 0.38770822, 0.58277522,\n",
       "       0.93915573, 0.93959064, 0.98638414, 0.9899145 , 0.99310313])"
      ]
     },
     "execution_count": 116,
     "metadata": {},
     "output_type": "execute_result"
    }
   ],
   "source": [
    "np.sort(a)"
   ]
  },
  {
   "cell_type": "markdown",
   "id": "cd57c63e",
   "metadata": {},
   "source": [
    "15. Create random vector of size 10 and replace the maximum value by 0 (★★☆)\n",
    "hint: argmax"
   ]
  },
  {
   "cell_type": "code",
   "execution_count": 119,
   "id": "ba933752",
   "metadata": {},
   "outputs": [
    {
     "data": {
      "text/plain": [
       "array([0.53163905, 0.07160379, 0.69149444, 0.11708751, 0.19351251,\n",
       "       0.9123815 , 0.31071241, 0.3156425 , 0.80703011, 0.40996057])"
      ]
     },
     "execution_count": 119,
     "metadata": {},
     "output_type": "execute_result"
    }
   ],
   "source": [
    "a = np.random.random(10)\n",
    "a\n"
   ]
  },
  {
   "cell_type": "code",
   "execution_count": 127,
   "id": "614e8805",
   "metadata": {},
   "outputs": [
    {
     "data": {
      "text/plain": [
       "5"
      ]
     },
     "execution_count": 127,
     "metadata": {},
     "output_type": "execute_result"
    }
   ],
   "source": [
    "a_max = np.argmax(a)\n",
    "a_max"
   ]
  },
  {
   "cell_type": "code",
   "execution_count": 129,
   "id": "565b4522",
   "metadata": {},
   "outputs": [
    {
     "data": {
      "text/plain": [
       "array([0.53163905, 0.07160379, 0.69149444, 0.11708751, 0.19351251,\n",
       "       0.        , 0.31071241, 0.3156425 , 0.80703011, 0.40996057])"
      ]
     },
     "execution_count": 129,
     "metadata": {},
     "output_type": "execute_result"
    }
   ],
   "source": [
    "a[5] = 0\n",
    "a"
   ]
  },
  {
   "cell_type": "markdown",
   "id": "6568e74d",
   "metadata": {},
   "source": [
    "16. Subtract the mean of each row of a matrix (★★☆)\n",
    "hint: mean(axis=,keepdims=)"
   ]
  },
  {
   "cell_type": "code",
   "execution_count": 152,
   "id": "2c40a85c",
   "metadata": {},
   "outputs": [
    {
     "data": {
      "text/plain": [
       "array([[0.63812829, 0.7894106 , 0.2291299 ],\n",
       "       [0.72257143, 0.27579107, 0.05043075],\n",
       "       [0.03106672, 0.69698148, 0.77232766]])"
      ]
     },
     "execution_count": 152,
     "metadata": {},
     "output_type": "execute_result"
    }
   ],
   "source": [
    "a = np.random.random((3,3))\n",
    "a"
   ]
  },
  {
   "cell_type": "code",
   "execution_count": 153,
   "id": "b6ecb3b7",
   "metadata": {},
   "outputs": [
    {
     "data": {
      "text/plain": [
       "array([[0.55222293],\n",
       "       [0.34959775],\n",
       "       [0.50012529]])"
      ]
     },
     "execution_count": 153,
     "metadata": {},
     "output_type": "execute_result"
    }
   ],
   "source": [
    "mean_a = np.mean(a, axis = 1, keepdims = True)\n",
    "mean_a"
   ]
  },
  {
   "cell_type": "code",
   "execution_count": 154,
   "id": "01ffce74",
   "metadata": {},
   "outputs": [
    {
     "data": {
      "text/plain": [
       "array([[ 0.08590536,  0.23718767, -0.32309303],\n",
       "       [ 0.37297368, -0.07380668, -0.299167  ],\n",
       "       [-0.46905857,  0.19685619,  0.27220237]])"
      ]
     },
     "execution_count": 154,
     "metadata": {},
     "output_type": "execute_result"
    }
   ],
   "source": [
    "x = a - mean_a\n",
    "x"
   ]
  },
  {
   "cell_type": "markdown",
   "id": "9d5578aa",
   "metadata": {},
   "source": [
    "17. How to get the n largest values of an array (★★★)\n",
    "Z = np.arange(10000) np.random.shuffle(Z) n = 5 hint: np.argsort | np.argpartition"
   ]
  },
  {
   "cell_type": "code",
   "execution_count": 159,
   "id": "feb94371",
   "metadata": {},
   "outputs": [
    {
     "data": {
      "text/plain": [
       "array([   0,    1,    2, ..., 9997, 9998, 9999])"
      ]
     },
     "execution_count": 159,
     "metadata": {},
     "output_type": "execute_result"
    }
   ],
   "source": [
    "Z = np.arange(10000) \n",
    "Z"
   ]
  },
  {
   "cell_type": "code",
   "execution_count": 161,
   "id": "e9cd50f5",
   "metadata": {},
   "outputs": [
    {
     "ename": "SyntaxError",
     "evalue": "invalid syntax (3763600330.py, line 1)",
     "output_type": "error",
     "traceback": [
      "\u001b[0;36m  Input \u001b[0;32mIn [161]\u001b[0;36m\u001b[0m\n\u001b[0;31m    np.random.shuffle(Z)n = 5\u001b[0m\n\u001b[0m                        ^\u001b[0m\n\u001b[0;31mSyntaxError\u001b[0m\u001b[0;31m:\u001b[0m invalid syntax\n"
     ]
    }
   ],
   "source": [
    "np.random.shuffle(Z)n = 5\n",
    "Z"
   ]
  },
  {
   "cell_type": "code",
   "execution_count": null,
   "id": "e4f94622",
   "metadata": {},
   "outputs": [],
   "source": []
  }
 ],
 "metadata": {
  "kernelspec": {
   "display_name": "Python 3 (ipykernel)",
   "language": "python",
   "name": "python3"
  },
  "language_info": {
   "codemirror_mode": {
    "name": "ipython",
    "version": 3
   },
   "file_extension": ".py",
   "mimetype": "text/x-python",
   "name": "python",
   "nbconvert_exporter": "python",
   "pygments_lexer": "ipython3",
   "version": "3.9.12"
  }
 },
 "nbformat": 4,
 "nbformat_minor": 5
}
