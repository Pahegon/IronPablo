{
 "cells": [
  {
   "cell_type": "code",
   "execution_count": 75,
   "id": "1417f3ed",
   "metadata": {},
   "outputs": [],
   "source": [
    "gandalf = [10, 11, 13, 30, 22, 11, 10, 33, 22, 22]\n",
    "saruman = [23, 66, 12, 43, 12, 10, 44, 23, 12, 17]"
   ]
  },
  {
   "cell_type": "markdown",
   "id": "5d66ff46",
   "metadata": {},
   "source": [
    "1. Create two variables called gandalf and saruman and assign them the spell power lists. Create a variable called spells to store the number of spells that the sorcerers cast."
   ]
  },
  {
   "cell_type": "markdown",
   "id": "190e59e8",
   "metadata": {},
   "source": [
    "2. Create two variables called gandalf_wins and saruman_wins. Set both of them to 0."
   ]
  },
  {
   "cell_type": "code",
   "execution_count": 76,
   "id": "575ef6d1",
   "metadata": {},
   "outputs": [],
   "source": [
    "\n",
    "spells = len(gandalf)\n",
    "\n",
    "gandalf_wins = 0\n",
    "\n",
    "saruman_wins = 0"
   ]
  },
  {
   "cell_type": "markdown",
   "id": "35d57da6",
   "metadata": {},
   "source": [
    "3. Using the lists of spells of both sorcerers, update variables gandalf_wins and saruman_wins to count the number of times each sorcerer wins a clash."
   ]
  },
  {
   "cell_type": "code",
   "execution_count": 77,
   "id": "5503a867",
   "metadata": {},
   "outputs": [
    {
     "name": "stdout",
     "output_type": "stream",
     "text": [
      "6\n",
      "4\n"
     ]
    }
   ],
   "source": [
    "for i in range(spells):\n",
    "    if gandalf[i] > saruman[i]:\n",
    "        gandalf_wins += 1\n",
    "    elif gandalf[i] < saruman[i]:\n",
    "        saruman_wins += 1\n",
    "\n",
    "print(gandalf_wins)\n",
    "print(saruman_wins)"
   ]
  },
  {
   "cell_type": "code",
   "execution_count": null,
   "id": "74c12d36",
   "metadata": {},
   "outputs": [],
   "source": []
  },
  {
   "cell_type": "markdown",
   "id": "d5fd49b0",
   "metadata": {},
   "source": [
    "4. Who won the battle?\n",
    "Print Gandalf wins, Saruman wins or Tie depending on the result."
   ]
  },
  {
   "cell_type": "code",
   "execution_count": 78,
   "id": "a1355965",
   "metadata": {},
   "outputs": [
    {
     "name": "stdout",
     "output_type": "stream",
     "text": [
      "the winner is Gandalf\n"
     ]
    }
   ],
   "source": [
    "if gandalf_wins > saruman_wins:\n",
    "    print(\"the winner is Gandalf\")\n",
    "elif gandalf_wins < saruman_wins:\n",
    "    print(\"the winner is Saruman\")\n",
    "else:\n",
    "    print(\"tie\")\n",
    "    \n",
    "    "
   ]
  },
  {
   "cell_type": "code",
   "execution_count": 79,
   "id": "ac8cac81",
   "metadata": {},
   "outputs": [],
   "source": [
    "def sorcerer_winner ():\n",
    "    '''\n",
    "    this is a string\n",
    "    '''\n",
    "    if gandalf_wins > saruman_wins:\n",
    "        return(\"the winner is Gandalf\")\n",
    "    elif gandalf_wins < saruman_wins:\n",
    "        return(\"the winner is Saruman\")\n",
    "    else:\n",
    "        return(\"tie\")\n",
    "    \n",
    "    \n"
   ]
  },
  {
   "cell_type": "code",
   "execution_count": null,
   "id": "0f665704",
   "metadata": {},
   "outputs": [],
   "source": [
    "def "
   ]
  },
  {
   "cell_type": "code",
   "execution_count": 80,
   "id": "148be994",
   "metadata": {},
   "outputs": [
    {
     "data": {
      "text/plain": [
       "'the winner is Gandalf'"
      ]
     },
     "execution_count": 80,
     "metadata": {},
     "output_type": "execute_result"
    }
   ],
   "source": [
    "sorcerer_winner()"
   ]
  },
  {
   "cell_type": "markdown",
   "id": "e5763f4e",
   "metadata": {},
   "source": [
    "Bonus\n",
    "In this bonus challenge, you'll need to check the winner of the battle but this time, a sorcerer wins if he succeeds in winning 3 spell clashes in a row.\n",
    "\n",
    "Also, the spells now have a name and there is a dictionary that associates that name to a power.\n",
    "\n",
    "POWER = {\n",
    "    'Fireball': 50, \n",
    "    'Lightning bolt': 40, \n",
    "    'Magic arrow': 10, \n",
    "    'Black Tentacles': 25, \n",
    "    'Contagion': 45\n",
    "}\n",
    "\n",
    "gandalf = ['Fireball', 'Lightning bolt', 'Lightning bolt', 'Magic arrow', 'Fireball', \n",
    "           'Magic arrow', 'Lightning bolt', 'Fireball', 'Fireball', 'Fireball']\n",
    "saruman = ['Contagion', 'Contagion', 'Black Tentacles', 'Fireball', 'Black Tentacles', \n",
    "           'Lightning bolt', 'Magic arrow', 'Contagion', 'Magic arrow', 'Magic arrow']\n",
    "1. Create variables POWER, gandalf and saruman as seen above. Create a variable called spells to store the number of spells that the sorcerers cast.\n",
    "1\n",
    "​\n"
   ]
  },
  {
   "cell_type": "markdown",
   "id": "0fe7910f",
   "metadata": {},
   "source": [
    "Bonus\n",
    "In this bonus challenge, you'll need to check the winner of the battle but this time, a sorcerer wins if he succeeds in winning 3 spell clashes in a row.\n",
    "\n",
    "Also, the spells now have a name and there is a dictionary that associates that name to a power.\n",
    "\n",
    "POWER = {\n",
    "    'Fireball': 50, \n",
    "    'Lightning bolt': 40, \n",
    "    'Magic arrow': 10, \n",
    "    'Black Tentacles': 25, \n",
    "    'Contagion': 45\n",
    "}\n",
    "\n",
    "gandalf = ['Fireball', 'Lightning bolt', 'Lightning bolt', 'Magic arrow', 'Fireball', \n",
    "           'Magic arrow', 'Lightning bolt', 'Fireball', 'Fireball', 'Fireball']\n",
    "saruman = ['Contagion', 'Contagion', 'Black Tentacles', 'Fireball', 'Black Tentacles', \n",
    "           'Lightning bolt', 'Magic arrow', 'Contagion', 'Magic arrow', 'Magic arrow']"
   ]
  },
  {
   "cell_type": "markdown",
   "id": "189db916",
   "metadata": {},
   "source": [
    "1. Create variables POWER, gandalf and saruman as seen above. Create a variable called spells to store the number of spells that the sorcerers cast."
   ]
  },
  {
   "cell_type": "code",
   "execution_count": 81,
   "id": "b8225e51",
   "metadata": {},
   "outputs": [],
   "source": [
    "POWER = { 'Fireball': 50, 'Lightning bolt': 40, 'Magic arrow': 10, 'Black Tentacles': 25, 'Contagion': 45 }\n",
    "\n",
    "gandalf = ['Fireball', 'Lightning bolt', 'Lightning bolt', 'Magic arrow', 'Fireball', 'Magic arrow', 'Lightning bolt', 'Fireball', 'Fireball', 'Fireball']\n",
    "\n",
    "saruman = ['Contagion', 'Contagion', 'Black Tentacles', 'Fireball', 'Black Tentacles', 'Lightning bolt', 'Magic arrow', 'Contagion', 'Magic arrow', 'Magic arrow']\n",
    "\n",
    "spells = len(gandalf)"
   ]
  },
  {
   "cell_type": "markdown",
   "id": "f74ae725",
   "metadata": {},
   "source": [
    "2. Create two variables called gandalf_wins and saruman_wins. Set both of them to 0.\n"
   ]
  },
  {
   "cell_type": "code",
   "execution_count": 82,
   "id": "ca1237ab",
   "metadata": {},
   "outputs": [],
   "source": [
    "gandalf_wins = 0\n",
    "\n",
    "saruman_wins = 0"
   ]
  },
  {
   "cell_type": "markdown",
   "id": "932f770d",
   "metadata": {},
   "source": [
    "3. Create two variables called gandalf_power and saruman_power to store the list of spell powers of each sorcerer.\n",
    "\n"
   ]
  },
  {
   "cell_type": "code",
   "execution_count": 86,
   "id": "46071f11",
   "metadata": {},
   "outputs": [
    {
     "name": "stdout",
     "output_type": "stream",
     "text": [
      "[50, 40, 40, 10, 50, 10, 40, 50, 50, 50]\n"
     ]
    }
   ],
   "source": [
    "gandalf_power = []\n",
    "for item in gandalf:\n",
    "    gandalf_power.append(POWER[item])\n",
    "    \n",
    "print(gandalf_power)\n",
    "    "
   ]
  },
  {
   "cell_type": "code",
   "execution_count": 87,
   "id": "7c403399",
   "metadata": {},
   "outputs": [
    {
     "data": {
      "text/plain": [
       "[45, 45, 25, 50, 25, 40, 10, 45, 10, 10]"
      ]
     },
     "execution_count": 87,
     "metadata": {},
     "output_type": "execute_result"
    }
   ],
   "source": [
    "saruman_power = []\n",
    "\n",
    "for item in saruman:\n",
    "    saruman_power.append(POWER[item])\n",
    "    \n",
    "saruman_power\n",
    "    "
   ]
  },
  {
   "cell_type": "markdown",
   "id": "1a2c184d",
   "metadata": {},
   "source": [
    "4. The battle starts! Using the variables you've created above, code the execution of spell clashes. Remember that a sorcerer wins if he succeeds in winning 3 spell clashes in a row.¶"
   ]
  },
  {
   "cell_type": "code",
   "execution_count": 94,
   "id": "fb6715dd",
   "metadata": {},
   "outputs": [
    {
     "name": "stdout",
     "output_type": "stream",
     "text": [
      "G\n",
      "S\n",
      "G\n",
      "S\n",
      "G\n",
      "S\n",
      "G\n",
      "G\n",
      "G\n",
      "G\n"
     ]
    }
   ],
   "source": [
    "wins = []\n",
    "\n",
    "for i in range(spells):\n",
    "    if gandalf_power[i] > saruman_power[i]:\n",
    "        print(\"G\")\n",
    "    elif gandalf_power[i] < saruman_power[i]:\n",
    "        print(\"S\")\n"
   ]
  },
  {
   "cell_type": "code",
   "execution_count": 62,
   "id": "dcb8d5e3",
   "metadata": {},
   "outputs": [
    {
     "ename": "AttributeError",
     "evalue": "'list' object has no attribute 'values'",
     "output_type": "error",
     "traceback": [
      "\u001b[0;31m---------------------------------------------------------------------------\u001b[0m",
      "\u001b[0;31mAttributeError\u001b[0m                            Traceback (most recent call last)",
      "Input \u001b[0;32mIn [62]\u001b[0m, in \u001b[0;36m<cell line: 1>\u001b[0;34m()\u001b[0m\n\u001b[0;32m----> 1\u001b[0m \u001b[43mgandalf\u001b[49m\u001b[38;5;241;43m.\u001b[39;49m\u001b[43mvalues\u001b[49m()[\u001b[38;5;241m2\u001b[39m]\n",
      "\u001b[0;31mAttributeError\u001b[0m: 'list' object has no attribute 'values'"
     ]
    }
   ],
   "source": [
    "gandalf.values()[2]"
   ]
  },
  {
   "cell_type": "code",
   "execution_count": null,
   "id": "d3a1b8d2",
   "metadata": {},
   "outputs": [],
   "source": []
  }
 ],
 "metadata": {
  "kernelspec": {
   "display_name": "Python 3 (ipykernel)",
   "language": "python",
   "name": "python3"
  },
  "language_info": {
   "codemirror_mode": {
    "name": "ipython",
    "version": 3
   },
   "file_extension": ".py",
   "mimetype": "text/x-python",
   "name": "python",
   "nbconvert_exporter": "python",
   "pygments_lexer": "ipython3",
   "version": "3.9.12"
  }
 },
 "nbformat": 4,
 "nbformat_minor": 5
}
